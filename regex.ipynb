{
  "nbformat": 4,
  "nbformat_minor": 0,
  "metadata": {
    "colab": {
      "name": "regex.ipynb",
      "provenance": [],
      "collapsed_sections": [],
      "authorship_tag": "ABX9TyOFNTG74ARh0eG30U7OTNqq",
      "include_colab_link": true
    },
    "kernelspec": {
      "name": "python3",
      "display_name": "Python 3"
    },
    "language_info": {
      "name": "python"
    }
  },
  "cells": [
    {
      "cell_type": "markdown",
      "metadata": {
        "id": "view-in-github",
        "colab_type": "text"
      },
      "source": [
        "<a href=\"https://colab.research.google.com/github/NandaShahapur/NG_Demo/blob/main/regex.ipynb\" target=\"_parent\"><img src=\"https://colab.research.google.com/assets/colab-badge.svg\" alt=\"Open In Colab\"/></a>"
      ]
    },
    {
      "cell_type": "code",
      "execution_count": null,
      "metadata": {
        "colab": {
          "base_uri": "https://localhost:8080/"
        },
        "id": "uLFiIurq_cpH",
        "outputId": "21a2e30f-7ad2-448a-8f60-22f6c5bd1a24"
      },
      "outputs": [
        {
          "output_type": "stream",
          "name": "stdout",
          "text": [
            "['1', '2', '3', '4', '5', '6', '7', '8', '9', '10', '11', '648', '649', '650', '651', '652', '653', '3']\n"
          ]
        }
      ],
      "source": [
        "import re\n",
        "\n",
        "input ='{\"orders\":[{\"id\":1},{\"id\":2},{\"id\":3},{\"id\":4},{\"id\":5},{\"id\":6},{\"id\":7},{\"id\":8},{\"id\":9},{\"id\":10},{\"id\":11},{\"id\":648},{\"id\":649},{\"id\":650},{\"id\":651},{\"id\":652},{\"id\":653}],\"errors\":[{\"code\":3,\"message\":\"[PHP Warning #2] count(): Parameter must be an array or an object that implements Countable (153)\"}]}'\n",
        "\n",
        "#using regular expression separate the orange coloured number from the input\n",
        "outputList1 = re.findall(r'\"id\":[0-9]{1,3}|\"code\":[0-9]',input)\n",
        "outputListFinal=[] #create a empty list\n",
        "outputListFinal=[re.sub('\"id\":|\"code\":',\"\", listVar)for listVar in outputList1]#using re.sub method replace the id and code with space and put in a new variable\n",
        "print(outputListFinal)"
      ]
    }
  ]
}